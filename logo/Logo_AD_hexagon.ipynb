{
  "nbformat": 4,
  "nbformat_minor": 0,
  "metadata": {
    "colab": {
      "provenance": []
    },
    "kernelspec": {
      "name": "python3",
      "display_name": "Python 3"
    },
    "language_info": {
      "name": "python"
    }
  },
  "cells": [
    {
      "cell_type": "markdown",
      "source": [
        "# Logo for App Development - Hexagon\n",
        "\n",
        "To publish an app in the iOS app store we need a logo sized 1024x1024. A shield (like our SSIS logo) would be great, but for a start we use a hexagon. That is at least a little more complicated and unique than a square with rounded corners.\n",
        "\n",
        "Sidenote here: Even a square with rounded corners could be a long medium.com article since it's not just round, but a [squircle](https://www.cocoanetics.com/2013/06/ios-7-icon-squircle/) or superellipse from iOS 7 on (back in 2013). See https://en.wikipedia.org/wiki/Squircle). A formula would look like\n",
        "\n",
        "$$\n",
        "\\left|\\frac{x}{60}\\right|^5 + \\left|\\frac{y}{60}\\right|^5 = 1\n",
        "$$\n",
        "\n",
        "If we set the side length of the regular hexagon to $s = 2$ then the height is 4 and the width is $w = 2\\sqrt{3}$. Let's translate this to the 1024px frame:\n"
      ],
      "metadata": {
        "id": "FwcQ5aa5Odwr"
      }
    },
    {
      "cell_type": "code",
      "execution_count": 1,
      "metadata": {
        "colab": {
          "base_uri": "https://localhost:8080/"
        },
        "id": "Cb-m-vorNOmr",
        "outputId": "a896a2d5-eecb-4e38-c11c-72ce4403e087"
      },
      "outputs": [
        {
          "output_type": "stream",
          "name": "stdout",
          "text": [
            "Top point: 512.0 82.0\n",
            "Right upper point: 884.3909236273087 297.0\n",
            "Right lower point: 884.3909236273087 727.0\n",
            "Bottom point: 512.0 942.0\n",
            "Left upper point: 139.6090763726914 297.0\n",
            "Left lower point: 139.6090763726914 727.0\n",
            "\n",
            "Top left corner: 139.6090763726914 82.0\n",
            "Sice:  744.7818472546172 860\n"
          ]
        }
      ],
      "source": [
        "import math\n",
        "\n",
        "x = 1024\n",
        "y = x\n",
        "center_x = x / 2\n",
        "center_y = y / 2\n",
        "side = 430\n",
        "\n",
        "print(\"Top point:\", center_x, center_y - side)\n",
        "print(\"Right upper point:\", center_x + side * math.sqrt(3) / 2, center_y - 0.5* side)\n",
        "print(\"Right lower point:\", center_x + side * math.sqrt(3) / 2, center_y + 0.5* side)\n",
        "print(\"Bottom point:\", center_x, center_y + side)\n",
        "print(\"Left upper point:\", center_x - side * math.sqrt(3) / 2, center_y - 0.5* side)\n",
        "print(\"Left lower point:\", center_x - side * math.sqrt(3) / 2, center_y + 0.5* side)\n",
        "\n",
        "print(\"\\nTop left corner:\", center_x - side * math.sqrt(3) / 2, center_y - side)\n",
        "print(\"Sice: \", side * math.sqrt(3), 2 * side)"
      ]
    }
  ]
}